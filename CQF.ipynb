{
 "cells": [
  {
   "cell_type": "code",
   "execution_count": 2,
   "id": "37d04522-e03a-4975-8f0c-459be691024d",
   "metadata": {},
   "outputs": [],
   "source": [
    "import numpy as np\n",
    "from matplotlib import pyplot as plt\n",
    "from functools import partial\n",
    "\n",
    "def util_func_template(h, limit, slope):\n",
    "    \"\"\"\n",
    "    limit is the maximum value of the function (as h approaches infinity)\n",
    "    slope is the derivative at 0\n",
    "        it loosely corresponds to the inverse of desired leverage\n",
    "    \"\"\"\n",
    "    scaler = limit / (np.pi / 2)\n",
    "    return scaler * np.arctan(h * slope / scaler)"
   ]
  },
  {
   "cell_type": "code",
   "execution_count": 18,
   "id": "e3e35ac1-b0aa-4be7-a680-249468f54c68",
   "metadata": {},
   "outputs": [],
   "source": [
    "def find_stable_payments(funcs, exponent=0.5):\n",
    "    \"\"\"\n",
    "    receives a list of functions, where each one tells for a given person\n",
    "    how much will they pay, given what all the rest is paying\n",
    "    \n",
    "    then, it finds a stable amount of payments for each person\n",
    "    and returns it as a list\n",
    "    \n",
    "    default exponent is 0.5, which corresponds to quadratic funding\n",
    "        - each payout is square rooted, and then all are summed up\n",
    "        for exponent=1, we just sum up all the payouts,\n",
    "        so then, we don't have to worry about sybil attacks\n",
    "    \"\"\"\n",
    "    payouts = np.ones(len(funcs))\n",
    "\n",
    "    change_size = float(\"inf\")\n",
    "    while change_size > 0.000001:\n",
    "        h = sum(payouts ** exponent)\n",
    "        new_payouts = np.array([func(h) for func in funcs])\n",
    "        change_size = sum(np.abs(new_payouts - payouts))\n",
    "        payouts = new_payouts\n",
    "\n",
    "        # print(h)\n",
    "        # print(payouts)\n",
    "        # print()\n",
    "    return payouts"
   ]
  },
  {
   "cell_type": "code",
   "execution_count": 19,
   "id": "3ba9a6f7-497d-4c14-9ee1-21c79292997d",
   "metadata": {},
   "outputs": [],
   "source": [
    "def find_instant_leverages(funcs):\n",
    "    epsilon = 0.001\n",
    "    payouts = find_stable_payments(funcs)\n",
    "\n",
    "    # find leverages for each person\n",
    "    leverages = []\n",
    "    for index in range(len(funcs)):\n",
    "        new_funcs = funcs.copy()\n",
    "        # modify the fixed value and see how it affects the pot\n",
    "        new_funcs[index] = lambda h: payouts[index] + epsilon\n",
    "        new_payouts = find_stable_payments(new_funcs)\n",
    "        \n",
    "        pot_difference = (sum(new_payouts) - sum(payouts))\n",
    "        leverage = pot_difference / epsilon\n",
    "        leverages.append(leverage)\n",
    "    return np.array(leverages)"
   ]
  },
  {
   "cell_type": "code",
   "execution_count": 21,
   "id": "f143b63b-c006-49ac-a610-b9276e2422fd",
   "metadata": {},
   "outputs": [
    {
     "name": "stdout",
     "output_type": "stream",
     "text": [
      "payouts:    [ 2.87  2.87  2.87  2.87  0.87]\n",
      "leverages:  [ 1.41  1.41  1.41  1.41  2.12]\n",
      "total pot:  12.361515820310577\n"
     ]
    }
   ],
   "source": [
    "common_slope = 0.4\n",
    "funcs = [\n",
    "    partial(util_func_template, limit=10, slope=common_slope), \n",
    "    partial(util_func_template, limit=10, slope=common_slope), \n",
    "    partial(util_func_template, limit=10, slope=common_slope), \n",
    "    partial(util_func_template, limit=10, slope=common_slope), \n",
    "    partial(util_func_template, limit=1, slope=common_slope), \n",
    "]\n",
    "\n",
    "payouts = find_stable_payments(funcs)\n",
    "leverages = find_instant_leverages(funcs)\n",
    "# print info\n",
    "np.set_printoptions(formatter=dict(float=lambda num: f\"{num:5.2f}\"))\n",
    "leverages = np.array(leverages)\n",
    "print(\"payouts:   \", payouts)\n",
    "print(\"leverages: \", leverages)\n",
    "print(\"total pot: \", sum(payouts))"
   ]
  },
  {
   "cell_type": "markdown",
   "id": "c079b03c-0d20-4c16-a7d1-7ab48c752e6d",
   "metadata": {},
   "source": [
    "# This section is work in progress"
   ]
  },
  {
   "cell_type": "code",
   "execution_count": 23,
   "id": "22903e0d-8d85-415f-9974-c5ba190b5c8a",
   "metadata": {},
   "outputs": [],
   "source": [
    "# try to find the slopes for which we attain the desired leverages\n",
    "# note: these leverages aren't real now!"
   ]
  },
  {
   "cell_type": "code",
   "execution_count": 24,
   "id": "d0451102-4581-441f-8126-be1f07939ca8",
   "metadata": {},
   "outputs": [],
   "source": [
    "target_leverages = [1.5, 1.5, 1.5, 1.5, 1.5, 1.5]\n",
    "limits = [10, 10, 10, 10, 10, 10]\n",
    "\n",
    "slopes = np.ones(len(limits))\n",
    "# slopes = [1,1,1,1]"
   ]
  },
  {
   "cell_type": "code",
   "execution_count": 25,
   "id": "abd2caa6-2a9f-4200-9573-818a477ea9e2",
   "metadata": {},
   "outputs": [
    {
     "name": "stdout",
     "output_type": "stream",
     "text": [
      "payouts:    [ 3.60  3.60  3.60  3.60  3.60  3.60]\n",
      "leverages:  [ 1.50  1.50  1.50  1.50  1.50  1.50]\n",
      "total pot:  21.601700516427453\n",
      "slopes:     [ 0.35  0.35  0.35  0.35  0.35  0.35]\n"
     ]
    }
   ],
   "source": [
    "for _ in range(100):\n",
    "    # construct functions given limits and slopes\n",
    "    funcs = [\n",
    "        partial(util_func_template, limit=limit, slope=slope) \n",
    "        for limit, slope in zip(limits, slopes)\n",
    "    ]\n",
    "\n",
    "    leverages = find_instant_leverages(funcs)\n",
    "    payouts = find_stable_payments(funcs)\n",
    "\n",
    "    # update slopes to be closer to the target leverages\n",
    "    alpha = 0.3\n",
    "    gradients = - (target_leverages - leverages) * alpha\n",
    "    gradients = np.exp(gradients)\n",
    "    slopes *= gradients\n",
    "\n",
    "    \n",
    "# print info\n",
    "np.set_printoptions(formatter=dict(float=lambda num: f\"{num:5.2f}\"))\n",
    "print(\"payouts:   \", payouts)\n",
    "print(\"leverages: \", leverages)\n",
    "print(\"total pot: \", sum(payouts))\n",
    "\n",
    "# print(\"gradients: \", gradients)\n",
    "print(\"slopes:    \", slopes)"
   ]
  }
 ],
 "metadata": {
  "kernelspec": {
   "display_name": "Python 3 (ipykernel)",
   "language": "python",
   "name": "python3"
  },
  "language_info": {
   "codemirror_mode": {
    "name": "ipython",
    "version": 3
   },
   "file_extension": ".py",
   "mimetype": "text/x-python",
   "name": "python",
   "nbconvert_exporter": "python",
   "pygments_lexer": "ipython3",
   "version": "3.9.7"
  }
 },
 "nbformat": 4,
 "nbformat_minor": 5
}
