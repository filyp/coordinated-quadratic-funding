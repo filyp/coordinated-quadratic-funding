{
 "cells": [
  {
   "cell_type": "markdown",
   "metadata": {},
   "source": [
    "This approach is similar to the main one in `CQF.ipynb`, but the slopes are set by the system, and users can only choose their `limit`.\n",
    "\n",
    "Using `get_payouts_symmetrical`, the slopes depend on the order of users' contributions. It's advantage, is that it never saturates, and the pot can grow indefinitely. It also has a really nice graphical representation (TODO draw it). It's disadvantage, is that it encourages strategic thinking about the order of contributions.\n",
    "\n",
    "Using `get_payouts_ordered`, the slopes are the same for all users, so there is less strategic thinking, but the pot saturates at some point. Also we lose the nice graphical representation.\n",
    "\n",
    "Both of those approaches have the advantage over the main one, that payouts depend on the maximal payouts each user announced, so it's all simpler, and we don't have to iterate to find a stable solution."
   ]
  },
  {
   "cell_type": "code",
   "execution_count": 137,
   "metadata": {},
   "outputs": [],
   "source": [
    "import numpy as np\n",
    "from matplotlib import pyplot as plt\n",
    "\n",
    "# from autograd import grad\n",
    "# from autograd import elementwise_grad as egrad"
   ]
  },
  {
   "cell_type": "code",
   "execution_count": 79,
   "metadata": {},
   "outputs": [],
   "source": [
    "# pledges list is ordered by the time those pledges were placed\n",
    "# so the the first ones, appear on the right of the image\n",
    "# in the symmetrical case, the order has no effect\n",
    "\n",
    "# def get_payouts_ordered(pledges):\n",
    "#     radiuses = np.sqrt(pledges) # * np.sqrt(4 / np.pi)\n",
    "#     height = sum(radiuses)\n",
    "#     offsets = np.cumsum(radiuses)\n",
    "#     slopes = height / offsets\n",
    "#     angles = np.arctan(slopes)\n",
    "#     saturations = angles / (np.pi / 2)\n",
    "#     payouts = saturations * pledges\n",
    "#     return payouts"
   ]
  },
  {
   "cell_type": "code",
   "execution_count": null,
   "metadata": {},
   "outputs": [],
   "source": []
  },
  {
   "cell_type": "code",
   "execution_count": 80,
   "metadata": {},
   "outputs": [],
   "source": [
    "def get_payouts_symmetrical(pledges, target=1):\n",
    "    radiuses = np.sqrt(pledges) # * np.sqrt(4 / np.pi)\n",
    "    height = sum(radiuses)\n",
    "    slope = height / target\n",
    "    angle = np.arctan(slope)\n",
    "    saturation = angle / (np.pi / 2)\n",
    "    payouts = saturation * np.array(pledges)\n",
    "    return payouts"
   ]
  },
  {
   "cell_type": "code",
   "execution_count": 81,
   "metadata": {},
   "outputs": [],
   "source": [
    "# some tests\n",
    "\n",
    "def test_symmetrical_target():\n",
    "    pledges = [4,9,1]\n",
    "    target = 6\n",
    "    payouts = get_payouts_symmetrical(pledges, target=target)\n",
    "    assert list(payouts) == [2, 4.5, 0.5]\n",
    "    \n",
    "    \n",
    "def test_symmetry():\n",
    "    pledges = [4,9,1]\n",
    "    payouts1 = get_payouts_symmetrical(pledges)\n",
    "    pledges = [1,4,9]\n",
    "    payouts2 = get_payouts_symmetrical(pledges)\n",
    "    assert sum(payouts1) == sum(payouts2)\n",
    "\n",
    "test_symmetrical_target()\n",
    "test_symmetry()"
   ]
  },
  {
   "cell_type": "code",
   "execution_count": 82,
   "metadata": {},
   "outputs": [],
   "source": [
    "# def instant_leverage(pledges, new_pledge):\n",
    "#     pledges = pledges.copy()\n",
    "#     old_sum = sum(get_payouts_ordered(pledges))\n",
    "    \n",
    "#     pledges.append(new_pledge)\n",
    "#     payouts = get_payouts_ordered(pledges)\n",
    "#     new_sum = sum(payouts)\n",
    "    \n",
    "#     leverage = (new_sum - old_sum) / payouts[-1]\n",
    "#     return leverage"
   ]
  },
  {
   "cell_type": "code",
   "execution_count": 103,
   "metadata": {},
   "outputs": [],
   "source": [
    "# find the best pledge for a desired leverage\n",
    "\n",
    "def add_pledge_given_desired_leverage(pledges, target, desired_leverage):\n",
    "    epsilon = 0.01\n",
    "    # pledges = original_pledges.copy()\n",
    "    pledges.append(0)\n",
    "\n",
    "    while True:\n",
    "        old_payouts = get_payouts_symmetrical(pledges, target)\n",
    "        pledges[-1] += epsilon\n",
    "        new_payouts = get_payouts_symmetrical(pledges, target)\n",
    "\n",
    "        old_total_payout = sum(old_payouts)\n",
    "        new_total_payout = sum(new_payouts)\n",
    "        old_personal_payout = old_payouts[-1]\n",
    "        new_personal_payout = new_payouts[-1]\n",
    "\n",
    "        leverage = (new_total_payout - old_total_payout) / (new_personal_payout - old_personal_payout)\n",
    "        if leverage < desired_leverage:\n",
    "            break\n",
    "\n",
    "#     print(f\"{leverage = }\")\n",
    "#     print(f\"{pledges = }\")\n",
    "#     print(f\"{new_total_payout = }\")\n",
    "#     print(f\"{new_personal_payout = }\")"
   ]
  },
  {
   "cell_type": "code",
   "execution_count": 195,
   "metadata": {},
   "outputs": [
    {
     "name": "stdout",
     "output_type": "stream",
     "text": [
      "saturation1 = 0.3859251071323899\n",
      "saturation2 = 0.41941396856532603\n",
      "total_payout1 = 3.5119184749047494\n",
      "total_payout2 = 4.567418117676402\n",
      "total payout difference:  1.0554996427716525\n"
     ]
    },
    {
     "data": {
      "text/plain": [
       "[<matplotlib.lines.Line2D at 0x7fbfcb6dfa00>]"
      ]
     },
     "execution_count": 195,
     "metadata": {},
     "output_type": "execute_result"
    },
    {
     "data": {
      "image/png": "[encoded data removed]",
      "text/plain": [
       "<Figure size 432x288 with 1 Axes>"
      ]
     },
     "metadata": {
      "needs_background": "light"
     },
     "output_type": "display_data"
    }
   ],
   "source": [
    "pledges1 = [1, 1, 0]\n",
    "pledges2 = [1, 1, 1]\n",
    "target = 20\n",
    "leverages = [1.5] * 20\n",
    "\n",
    "def add_pledges_given_desired_leverages_list(pledges, target, leverages):\n",
    "    for leverage in leverages:\n",
    "        add_pledge_given_desired_leverage(pledges, target, leverage)\n",
    "        total_payout = sum(get_payouts_symmetrical(pledges1, target))\n",
    "        # print(f\"{total_payout = :.2f}       {pledges1[-1] = :.2f}\")\n",
    "    payout = get_payouts_symmetrical(pledges, target)\n",
    "    total_payout = sum(payout)\n",
    "    saturation = payout[0] / pledges[0]\n",
    "    return pledges, total_payout, saturation\n",
    "\n",
    "pledges1, total_payout1, saturation1 = add_pledges_given_desired_leverages_list(pledges1, target, leverages)\n",
    "pledges2, total_payout2, saturation2 = add_pledges_given_desired_leverages_list(pledges2, target, leverages)\n",
    "    \n",
    "print(f\"{saturation1 = }\")\n",
    "print(f\"{saturation2 = }\")\n",
    "print(f\"{total_payout1 = }\")\n",
    "print(f\"{total_payout2 = }\")\n",
    "print(\"total payout difference: \", total_payout2 - total_payout1)\n",
    "plt.plot(pledges1)\n",
    "plt.plot(pledges2)"
   ]
  },
  {
   "cell_type": "code",
   "execution_count": null,
   "metadata": {},
   "outputs": [],
   "source": [
    "# high target, on one hand reduces saturation\n",
    "# but on the other, it reduces the influence of a new pledge"
   ]
  },
  {
   "cell_type": "code",
   "execution_count": null,
   "metadata": {},
   "outputs": [],
   "source": [
    "# symmetrical example is simpler to analyze, because people don't get so strategic about the order\n",
    "# but it is scale dependent (contrary to the ordered version)\n",
    "# so optimal target needs to be predicted in advance\n",
    "# this actually may be good sometimes, so that some fund doesn't spiral beyond necessity"
   ]
  }
 ],
 "metadata": {
  "kernelspec": {
   "display_name": "Python 3 (ipykernel)",
   "language": "python",
   "name": "python3"
  },
  "language_info": {
   "codemirror_mode": {
    "name": "ipython",
    "version": 3
   },
   "file_extension": ".py",
   "mimetype": "text/x-python",
   "name": "python",
   "nbconvert_exporter": "python",
   "pygments_lexer": "ipython3",
   "version": "3.9.7"
  }
 },
 "nbformat": 4,
 "nbformat_minor": 4
}
