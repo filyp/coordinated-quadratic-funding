{
 "cells": [
  {
   "cell_type": "code",
   "execution_count": 1,
   "id": "0cc05a33-ae48-4759-af2a-d17a4921caae",
   "metadata": {},
   "outputs": [],
   "source": [
    "import numpy as np\n",
    "np.set_printoptions(precision=3)"
   ]
  },
  {
   "cell_type": "code",
   "execution_count": 2,
   "id": "edcf4c67-0312-48fa-9542-2a26a9835b4d",
   "metadata": {},
   "outputs": [],
   "source": [
    "class Person:\n",
    "    def __init__(self, leverage, pledge):\n",
    "        self.leverage = leverage\n",
    "        self.pledge = pledge"
   ]
  },
  {
   "cell_type": "code",
   "execution_count": 3,
   "id": "a9843b44-9aee-41bc-81e9-80daa303f30a",
   "metadata": {},
   "outputs": [],
   "source": [
    "class Pool:\n",
    "    def __init__(self, target):\n",
    "        self.target = target\n",
    "        self.people = []\n",
    "        self.pot = 0\n",
    "        self.epsilon = 0.0001\n",
    "        self.alpha = 0.1\n",
    "    \n",
    "    def get_pledges(self):\n",
    "        return [person.pledge for person in self.people]\n",
    "    \n",
    "    def get_payouts(self):\n",
    "        return [person.payout for person in self.people]\n",
    "    \n",
    "    def get_saturation(self):\n",
    "        pledges = self.get_pledges()\n",
    "        radiuses = np.sqrt(pledges)\n",
    "        slope = sum(radiuses) / self.target\n",
    "        angle = np.arctan(slope)\n",
    "        saturation = angle / (np.pi / 2)\n",
    "        return saturation\n",
    "    \n",
    "    def update_pot(self):\n",
    "        saturation = self.get_saturation()\n",
    "        # update payouts\n",
    "        for person in self.people:\n",
    "            person.payout = person.pledge * saturation\n",
    "        # update pot\n",
    "        self.pot = sum(self.get_payouts())\n",
    "    \n",
    "    def update_pledges(self):\n",
    "#         person = self.people[person_num]\n",
    "        for person in self.people:\n",
    "            self.update_pot()\n",
    "            old_pot = self.pot\n",
    "            old_payout = person.payout\n",
    "\n",
    "            # this change from updating epsilon is negligible\n",
    "            person.pledge += self.epsilon\n",
    "            self.update_pot()\n",
    "            new_pot = self.pot\n",
    "            new_payout = person.payout\n",
    "            leverage = (new_pot - old_pot) / (new_payout - old_payout)\n",
    "#             print(leverage)\n",
    "            gradient = (leverage - person.leverage) * self.alpha\n",
    "            gradient = np.clip(gradient, -self.alpha, self.alpha)\n",
    "            person.pledge += gradient\n",
    "    \n",
    "        \n",
    "pool = Pool(target=10)\n",
    "leverages = [1.5, 1.5, 1.5, 1.5, 1.5, 1.2, 1.2, 1.2, 1.2, 1.2]\n",
    "\n",
    "for leverage in leverages:\n",
    "    pool.people.append(Person(leverage, 0))\n",
    "\n",
    "pool.people[0].pledge = 1\n",
    "pool.people[1].pledge = 1\n",
    "pool.people[2].pledge = 1\n",
    "pool.people[3].pledge = 1\n",
    "pool.people[4].pledge = 1\n",
    "pool.people[5].pledge = 1\n",
    "pool.people[6].pledge = 0\n",
    "pool.people[7].pledge = 0\n",
    "pool.people[8].pledge = 0\n",
    "pool.people[9].pledge = 0.1"
   ]
  },
  {
   "cell_type": "code",
   "execution_count": 4,
   "id": "70209d3a-f19b-4166-b0c3-c3643e5fbb0f",
   "metadata": {},
   "outputs": [
    {
     "name": "stdout",
     "output_type": "stream",
     "text": [
      "pot:         2.5751651080932567\n",
      "saturation:  0.402732953634935\n"
     ]
    },
    {
     "data": {
      "text/plain": [
       "[0.9805252340944199,\n",
       " 0.9804697098543417,\n",
       " 0.9804137337202606,\n",
       " 0.9803573005564846,\n",
       " 0.9803004051545005,\n",
       " 1.0102430422173485,\n",
       " 0.10010000000000001,\n",
       " 0.10010000000000001,\n",
       " 0.10010000000000001,\n",
       " 0.18161554370466973]"
      ]
     },
     "execution_count": 4,
     "metadata": {},
     "output_type": "execute_result"
    }
   ],
   "source": [
    "pool.update_pledges()\n",
    "\n",
    "pool.update_pot()\n",
    "print(\"pot:        \", pool.pot)\n",
    "print(\"saturation: \", pool.get_saturation())\n",
    "\n",
    "pool.get_pledges()"
   ]
  },
  {
   "cell_type": "code",
   "execution_count": null,
   "id": "77a79897-eeb3-4384-a61b-9a1534f75593",
   "metadata": {},
   "outputs": [],
   "source": []
  },
  {
   "cell_type": "code",
   "execution_count": null,
   "id": "4e37f479-20a4-42e2-934f-4ae670974e3e",
   "metadata": {},
   "outputs": [],
   "source": []
  }
 ],
 "metadata": {
  "kernelspec": {
   "display_name": "Python 3 (ipykernel)",
   "language": "python",
   "name": "python3"
  },
  "language_info": {
   "codemirror_mode": {
    "name": "ipython",
    "version": 3
   },
   "file_extension": ".py",
   "mimetype": "text/x-python",
   "name": "python",
   "nbconvert_exporter": "python",
   "pygments_lexer": "ipython3",
   "version": "3.9.7"
  }
 },
 "nbformat": 4,
 "nbformat_minor": 5
}
